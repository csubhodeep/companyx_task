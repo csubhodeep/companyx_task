{
 "cells": [
  {
   "cell_type": "markdown",
   "id": "dc8f203d-a5a3-4124-aad8-182f3f3815b5",
   "metadata": {},
   "source": [
    "# Objective\n",
    "\n",
    "This notebook primarily loads, cleans and save a cleaned version of the provided dataset."
   ]
  },
  {
   "cell_type": "markdown",
   "id": "acb15210-2749-42aa-b89f-fd6725e008e1",
   "metadata": {},
   "source": [
    "# Prep notebook"
   ]
  },
  {
   "cell_type": "code",
   "execution_count": 1,
   "id": "2133dde4-5748-4e03-b052-b4a781f6dbd8",
   "metadata": {},
   "outputs": [],
   "source": [
    "import pandas as pd\n",
    "\n",
    "from booking_forecaster.configs import params"
   ]
  },
  {
   "cell_type": "markdown",
   "id": "f6df3a53-e3c6-45fa-810a-7a8c86a6edfa",
   "metadata": {},
   "source": [
    "# Load data"
   ]
  },
  {
   "cell_type": "code",
   "execution_count": 2,
   "id": "2d454850-c098-4719-9763-3dbe729dabae",
   "metadata": {},
   "outputs": [],
   "source": [
    "df_l0 = pd.read_csv(params.DATA_PATH / \"hotel_bookings.csv\", delimiter=\",\")"
   ]
  },
  {
   "cell_type": "code",
   "execution_count": 3,
   "id": "12fe2dfa-44fa-4ec4-8594-8922571f39be",
   "metadata": {},
   "outputs": [
    {
     "name": "stdout",
     "output_type": "stream",
     "text": [
      "<class 'pandas.core.frame.DataFrame'>\n",
      "RangeIndex: 150000 entries, 0 to 149999\n",
      "Data columns (total 19 columns):\n",
      " #   Column                Non-Null Count   Dtype  \n",
      "---  ------                --------------   -----  \n",
      " 0   hotel_name            150000 non-null  object \n",
      " 1   season                150000 non-null  object \n",
      " 2   arrival_date          150000 non-null  object \n",
      " 3   departure_date        150000 non-null  object \n",
      " 4   guest_type            150000 non-null  object \n",
      " 5   customer_type         150000 non-null  object \n",
      " 6   company               150000 non-null  float64\n",
      " 7   adr                   150000 non-null  float64\n",
      " 8   num_guests            150000 non-null  float64\n",
      " 9   adults                150000 non-null  int64  \n",
      " 10  children              149995 non-null  float64\n",
      " 11  babies                150000 non-null  int64  \n",
      " 12  meal                  150000 non-null  object \n",
      " 13  source_country        150000 non-null  object \n",
      " 14  market_segment        150000 non-null  object \n",
      " 15  distribution_channel  150000 non-null  object \n",
      " 16  assigned_room_type    150000 non-null  object \n",
      " 17  is_canceled           150000 non-null  int64  \n",
      " 18  booking_date          150000 non-null  object \n",
      "dtypes: float64(4), int64(3), object(12)\n",
      "memory usage: 21.7+ MB\n"
     ]
    }
   ],
   "source": [
    "df_l0.info()"
   ]
  },
  {
   "cell_type": "code",
   "execution_count": 4,
   "id": "03728276-8a0c-4fcd-a463-259d9437d7bd",
   "metadata": {},
   "outputs": [
    {
     "data": {
      "text/html": [
       "<div>\n",
       "<style scoped>\n",
       "    .dataframe tbody tr th:only-of-type {\n",
       "        vertical-align: middle;\n",
       "    }\n",
       "\n",
       "    .dataframe tbody tr th {\n",
       "        vertical-align: top;\n",
       "    }\n",
       "\n",
       "    .dataframe thead th {\n",
       "        text-align: right;\n",
       "    }\n",
       "</style>\n",
       "<table border=\"1\" class=\"dataframe\">\n",
       "  <thead>\n",
       "    <tr style=\"text-align: right;\">\n",
       "      <th></th>\n",
       "      <th>hotel_name</th>\n",
       "      <th>season</th>\n",
       "      <th>arrival_date</th>\n",
       "      <th>departure_date</th>\n",
       "      <th>guest_type</th>\n",
       "      <th>customer_type</th>\n",
       "      <th>company</th>\n",
       "      <th>adr</th>\n",
       "      <th>num_guests</th>\n",
       "      <th>adults</th>\n",
       "      <th>children</th>\n",
       "      <th>babies</th>\n",
       "      <th>meal</th>\n",
       "      <th>source_country</th>\n",
       "      <th>market_segment</th>\n",
       "      <th>distribution_channel</th>\n",
       "      <th>assigned_room_type</th>\n",
       "      <th>is_canceled</th>\n",
       "      <th>booking_date</th>\n",
       "    </tr>\n",
       "  </thead>\n",
       "  <tbody>\n",
       "    <tr>\n",
       "      <th>0</th>\n",
       "      <td>Algarve Retreat</td>\n",
       "      <td>Spring</td>\n",
       "      <td>2015-07-07</td>\n",
       "      <td>2015-08-02</td>\n",
       "      <td>Group</td>\n",
       "      <td>Transient-Party</td>\n",
       "      <td>40.0</td>\n",
       "      <td>86.313825</td>\n",
       "      <td>2.0</td>\n",
       "      <td>2</td>\n",
       "      <td>0.0</td>\n",
       "      <td>0</td>\n",
       "      <td>BB</td>\n",
       "      <td>PRT</td>\n",
       "      <td>Online TA</td>\n",
       "      <td>Direct</td>\n",
       "      <td>A</td>\n",
       "      <td>0</td>\n",
       "      <td>2014-07-09</td>\n",
       "    </tr>\n",
       "    <tr>\n",
       "      <th>1</th>\n",
       "      <td>Algarve Retreat</td>\n",
       "      <td>Spring</td>\n",
       "      <td>2015-07-16</td>\n",
       "      <td>2015-08-02</td>\n",
       "      <td>Family</td>\n",
       "      <td>Transient</td>\n",
       "      <td>40.0</td>\n",
       "      <td>59.115150</td>\n",
       "      <td>1.0</td>\n",
       "      <td>1</td>\n",
       "      <td>0.0</td>\n",
       "      <td>0</td>\n",
       "      <td>HB</td>\n",
       "      <td>PRT</td>\n",
       "      <td>Groups</td>\n",
       "      <td>TA/TO</td>\n",
       "      <td>A</td>\n",
       "      <td>1</td>\n",
       "      <td>2014-07-19</td>\n",
       "    </tr>\n",
       "    <tr>\n",
       "      <th>2</th>\n",
       "      <td>Algarve Retreat</td>\n",
       "      <td>Spring</td>\n",
       "      <td>2015-07-06</td>\n",
       "      <td>2015-07-22</td>\n",
       "      <td>Family</td>\n",
       "      <td>Transient-Party</td>\n",
       "      <td>40.0</td>\n",
       "      <td>81.292354</td>\n",
       "      <td>2.0</td>\n",
       "      <td>2</td>\n",
       "      <td>0.0</td>\n",
       "      <td>0</td>\n",
       "      <td>BB</td>\n",
       "      <td>PRT</td>\n",
       "      <td>Online TA</td>\n",
       "      <td>TA/TO</td>\n",
       "      <td>A</td>\n",
       "      <td>0</td>\n",
       "      <td>2014-07-27</td>\n",
       "    </tr>\n",
       "    <tr>\n",
       "      <th>3</th>\n",
       "      <td>Algarve Retreat</td>\n",
       "      <td>Summer</td>\n",
       "      <td>2015-07-16</td>\n",
       "      <td>2015-08-08</td>\n",
       "      <td>Couple</td>\n",
       "      <td>Transient</td>\n",
       "      <td>40.0</td>\n",
       "      <td>110.208364</td>\n",
       "      <td>1.0</td>\n",
       "      <td>1</td>\n",
       "      <td>0.0</td>\n",
       "      <td>0</td>\n",
       "      <td>SC</td>\n",
       "      <td>FRA</td>\n",
       "      <td>Online TA</td>\n",
       "      <td>TA/TO</td>\n",
       "      <td>A</td>\n",
       "      <td>0</td>\n",
       "      <td>2014-07-27</td>\n",
       "    </tr>\n",
       "    <tr>\n",
       "      <th>4</th>\n",
       "      <td>Algarve Retreat</td>\n",
       "      <td>Autumn</td>\n",
       "      <td>2015-07-18</td>\n",
       "      <td>2015-08-13</td>\n",
       "      <td>Couple</td>\n",
       "      <td>Transient</td>\n",
       "      <td>40.0</td>\n",
       "      <td>107.166776</td>\n",
       "      <td>3.0</td>\n",
       "      <td>3</td>\n",
       "      <td>0.0</td>\n",
       "      <td>0</td>\n",
       "      <td>BB</td>\n",
       "      <td>FRA</td>\n",
       "      <td>Direct</td>\n",
       "      <td>Corporate</td>\n",
       "      <td>A</td>\n",
       "      <td>0</td>\n",
       "      <td>2014-07-30</td>\n",
       "    </tr>\n",
       "  </tbody>\n",
       "</table>\n",
       "</div>"
      ],
      "text/plain": [
       "        hotel_name  season arrival_date departure_date guest_type  \\\n",
       "0  Algarve Retreat  Spring   2015-07-07     2015-08-02      Group   \n",
       "1  Algarve Retreat  Spring   2015-07-16     2015-08-02     Family   \n",
       "2  Algarve Retreat  Spring   2015-07-06     2015-07-22     Family   \n",
       "3  Algarve Retreat  Summer   2015-07-16     2015-08-08     Couple   \n",
       "4  Algarve Retreat  Autumn   2015-07-18     2015-08-13     Couple   \n",
       "\n",
       "     customer_type  company         adr  num_guests  adults  children  babies  \\\n",
       "0  Transient-Party     40.0   86.313825         2.0       2       0.0       0   \n",
       "1        Transient     40.0   59.115150         1.0       1       0.0       0   \n",
       "2  Transient-Party     40.0   81.292354         2.0       2       0.0       0   \n",
       "3        Transient     40.0  110.208364         1.0       1       0.0       0   \n",
       "4        Transient     40.0  107.166776         3.0       3       0.0       0   \n",
       "\n",
       "  meal source_country market_segment distribution_channel assigned_room_type  \\\n",
       "0   BB            PRT      Online TA               Direct                  A   \n",
       "1   HB            PRT         Groups                TA/TO                  A   \n",
       "2   BB            PRT      Online TA                TA/TO                  A   \n",
       "3   SC            FRA      Online TA                TA/TO                  A   \n",
       "4   BB            FRA         Direct            Corporate                  A   \n",
       "\n",
       "   is_canceled booking_date  \n",
       "0            0   2014-07-09  \n",
       "1            1   2014-07-19  \n",
       "2            0   2014-07-27  \n",
       "3            0   2014-07-27  \n",
       "4            0   2014-07-30  "
      ]
     },
     "execution_count": 4,
     "metadata": {},
     "output_type": "execute_result"
    }
   ],
   "source": [
    "df_l0.head()"
   ]
  },
  {
   "cell_type": "markdown",
   "id": "0706a3fc-c0c2-4951-9f7a-e8fe2fc5f0bd",
   "metadata": {},
   "source": [
    "# Data prep"
   ]
  },
  {
   "cell_type": "code",
   "execution_count": 5,
   "id": "6e6d7379-1787-439e-a69c-076661e50ac9",
   "metadata": {},
   "outputs": [],
   "source": [
    "df_l1 = df_l0.copy(deep=True)"
   ]
  },
  {
   "cell_type": "markdown",
   "id": "aeb690a5-15bb-46e9-b948-8da3de4f3c38",
   "metadata": {},
   "source": [
    "From domain knowledge and inferring from the field name we could cast the `*_date` fields to `pd.Timestamp`"
   ]
  },
  {
   "cell_type": "code",
   "execution_count": 6,
   "id": "533b4d17-a029-42e6-9afc-fc885c42d4ee",
   "metadata": {},
   "outputs": [],
   "source": [
    "date_cols = [\n",
    "    \"arrival_date\",\n",
    "    \"booking_date\",\n",
    "    \"departure_date\"\n",
    "]\n",
    "\n",
    "for col in date_cols:\n",
    "    df_l1[col] = pd.to_datetime(df_l1[col], format=\"%Y-%m-%d\")"
   ]
  },
  {
   "cell_type": "code",
   "execution_count": 7,
   "id": "d4618209-7190-4e46-b06e-d318217444cd",
   "metadata": {},
   "outputs": [
    {
     "name": "stdout",
     "output_type": "stream",
     "text": [
      "<class 'pandas.core.frame.DataFrame'>\n",
      "RangeIndex: 150000 entries, 0 to 149999\n",
      "Data columns (total 3 columns):\n",
      " #   Column          Non-Null Count   Dtype         \n",
      "---  ------          --------------   -----         \n",
      " 0   arrival_date    150000 non-null  datetime64[ns]\n",
      " 1   booking_date    150000 non-null  datetime64[ns]\n",
      " 2   departure_date  150000 non-null  datetime64[ns]\n",
      "dtypes: datetime64[ns](3)\n",
      "memory usage: 3.4 MB\n"
     ]
    }
   ],
   "source": [
    "df_l1[date_cols].info()"
   ]
  },
  {
   "cell_type": "markdown",
   "id": "bc351594-d8ab-4851-82c2-510347c01502",
   "metadata": {},
   "source": [
    "Let's try to do some basic inspection on the dataset"
   ]
  },
  {
   "cell_type": "markdown",
   "id": "1450b847-6c04-43a4-878b-3b8d15254870",
   "metadata": {},
   "source": [
    "From domain knowledge, we assume that the field `company` is some kind of an id and therefore we cast it to type `category` for now."
   ]
  },
  {
   "cell_type": "code",
   "execution_count": 8,
   "id": "cae764e4-f149-4437-be76-06a1756d9dbc",
   "metadata": {},
   "outputs": [],
   "source": [
    "df_l1['company'] = df_l1['company'].astype(int).astype('category')"
   ]
  },
  {
   "cell_type": "code",
   "execution_count": 9,
   "id": "9ed606a2-a652-4703-b49f-0569c01143c1",
   "metadata": {},
   "outputs": [
    {
     "data": {
      "text/plain": [
       "hotel_name                5\n",
       "season                    4\n",
       "guest_type                4\n",
       "customer_type             4\n",
       "company                 331\n",
       "meal                      5\n",
       "source_country          170\n",
       "market_segment            8\n",
       "distribution_channel      5\n",
       "assigned_room_type       11\n",
       "dtype: int64"
      ]
     },
     "execution_count": 9,
     "metadata": {},
     "output_type": "execute_result"
    }
   ],
   "source": [
    "# count number of unique elements in the non-numeric cols\n",
    "df_l1.select_dtypes(['object', 'category']).nunique()"
   ]
  },
  {
   "cell_type": "markdown",
   "id": "a56eb893-0b57-4094-9d81-105abc8a0c3c",
   "metadata": {},
   "source": [
    "Here on, it is safe to assume that all the above types are some kind of categories so we cast them accordingly. "
   ]
  },
  {
   "cell_type": "code",
   "execution_count": 10,
   "id": "c44befae-fe7e-488e-bd41-68d1034db288",
   "metadata": {},
   "outputs": [],
   "source": [
    "object_cols = df_l1.select_dtypes('object').columns"
   ]
  },
  {
   "cell_type": "code",
   "execution_count": 11,
   "id": "b5cb34ac-8460-4289-8130-12fe6dc3f165",
   "metadata": {},
   "outputs": [],
   "source": [
    "df_l1[object_cols] = df_l1[object_cols].astype('category')"
   ]
  },
  {
   "cell_type": "markdown",
   "id": "afc2fbe6-85c3-466a-b705-80fe2889310e",
   "metadata": {},
   "source": [
    "Again from domain knowledge and inferring from the field name `is_canceled` could be cast to `boolean`. But before that let's actually count the number of uniques to verify this assumption"
   ]
  },
  {
   "cell_type": "code",
   "execution_count": 12,
   "id": "fdecdc2b-6f40-4a11-ae25-7d85bdc130cb",
   "metadata": {},
   "outputs": [
    {
     "data": {
      "text/plain": [
       "2"
      ]
     },
     "execution_count": 12,
     "metadata": {},
     "output_type": "execute_result"
    }
   ],
   "source": [
    "df_l1['is_canceled'].nunique()"
   ]
  },
  {
   "cell_type": "code",
   "execution_count": 13,
   "id": "cf09c2b5-5366-4480-9592-bc2150ed0d10",
   "metadata": {},
   "outputs": [],
   "source": [
    "df_l1['is_canceled'] = df_l1['is_canceled'].astype(bool)"
   ]
  },
  {
   "cell_type": "code",
   "execution_count": 14,
   "id": "fa828f8d-a408-4351-9605-19b1c2caacae",
   "metadata": {},
   "outputs": [
    {
     "data": {
      "text/html": [
       "<div>\n",
       "<style scoped>\n",
       "    .dataframe tbody tr th:only-of-type {\n",
       "        vertical-align: middle;\n",
       "    }\n",
       "\n",
       "    .dataframe tbody tr th {\n",
       "        vertical-align: top;\n",
       "    }\n",
       "\n",
       "    .dataframe thead th {\n",
       "        text-align: right;\n",
       "    }\n",
       "</style>\n",
       "<table border=\"1\" class=\"dataframe\">\n",
       "  <thead>\n",
       "    <tr style=\"text-align: right;\">\n",
       "      <th></th>\n",
       "      <th>hotel_name</th>\n",
       "      <th>season</th>\n",
       "      <th>arrival_date</th>\n",
       "      <th>departure_date</th>\n",
       "      <th>guest_type</th>\n",
       "      <th>customer_type</th>\n",
       "      <th>company</th>\n",
       "      <th>adr</th>\n",
       "      <th>num_guests</th>\n",
       "      <th>adults</th>\n",
       "      <th>children</th>\n",
       "      <th>babies</th>\n",
       "      <th>meal</th>\n",
       "      <th>source_country</th>\n",
       "      <th>market_segment</th>\n",
       "      <th>distribution_channel</th>\n",
       "      <th>assigned_room_type</th>\n",
       "      <th>is_canceled</th>\n",
       "      <th>booking_date</th>\n",
       "    </tr>\n",
       "  </thead>\n",
       "  <tbody>\n",
       "    <tr>\n",
       "      <th>26343</th>\n",
       "      <td>Braga City Hotel</td>\n",
       "      <td>Autumn</td>\n",
       "      <td>2015-12-01</td>\n",
       "      <td>2015-12-13</td>\n",
       "      <td>Couple</td>\n",
       "      <td>Transient</td>\n",
       "      <td>40</td>\n",
       "      <td>68.070924</td>\n",
       "      <td>1.960426</td>\n",
       "      <td>2</td>\n",
       "      <td>NaN</td>\n",
       "      <td>0</td>\n",
       "      <td>BB</td>\n",
       "      <td>PRT</td>\n",
       "      <td>Offline TA/TO</td>\n",
       "      <td>TA/TO</td>\n",
       "      <td>A</td>\n",
       "      <td>False</td>\n",
       "      <td>2015-01-22</td>\n",
       "    </tr>\n",
       "    <tr>\n",
       "      <th>106208</th>\n",
       "      <td>Lisbon City Hotel</td>\n",
       "      <td>Summer</td>\n",
       "      <td>2015-08-03</td>\n",
       "      <td>2015-08-04</td>\n",
       "      <td>Family</td>\n",
       "      <td>Transient-Party</td>\n",
       "      <td>40</td>\n",
       "      <td>13.135240</td>\n",
       "      <td>1.962701</td>\n",
       "      <td>2</td>\n",
       "      <td>NaN</td>\n",
       "      <td>0</td>\n",
       "      <td>BB</td>\n",
       "      <td>PRT</td>\n",
       "      <td>Undefined</td>\n",
       "      <td>Undefined</td>\n",
       "      <td>B</td>\n",
       "      <td>True</td>\n",
       "      <td>2015-08-01</td>\n",
       "    </tr>\n",
       "    <tr>\n",
       "      <th>106209</th>\n",
       "      <td>Lisbon City Hotel</td>\n",
       "      <td>Summer</td>\n",
       "      <td>2015-08-05</td>\n",
       "      <td>2015-08-07</td>\n",
       "      <td>Family</td>\n",
       "      <td>Transient-Party</td>\n",
       "      <td>40</td>\n",
       "      <td>13.806969</td>\n",
       "      <td>1.962701</td>\n",
       "      <td>2</td>\n",
       "      <td>NaN</td>\n",
       "      <td>0</td>\n",
       "      <td>BB</td>\n",
       "      <td>PRT</td>\n",
       "      <td>Direct</td>\n",
       "      <td>Undefined</td>\n",
       "      <td>B</td>\n",
       "      <td>True</td>\n",
       "      <td>2015-08-04</td>\n",
       "    </tr>\n",
       "    <tr>\n",
       "      <th>137729</th>\n",
       "      <td>Porto City Hotel</td>\n",
       "      <td>Winter</td>\n",
       "      <td>2018-01-01</td>\n",
       "      <td>2018-01-13</td>\n",
       "      <td>Couple</td>\n",
       "      <td>Transient</td>\n",
       "      <td>40</td>\n",
       "      <td>75.116746</td>\n",
       "      <td>1.958684</td>\n",
       "      <td>2</td>\n",
       "      <td>NaN</td>\n",
       "      <td>0</td>\n",
       "      <td>SC</td>\n",
       "      <td>PRT</td>\n",
       "      <td>Offline TA/TO</td>\n",
       "      <td>TA/TO</td>\n",
       "      <td>A</td>\n",
       "      <td>False</td>\n",
       "      <td>2017-06-29</td>\n",
       "    </tr>\n",
       "    <tr>\n",
       "      <th>139516</th>\n",
       "      <td>Porto City Hotel</td>\n",
       "      <td>Summer</td>\n",
       "      <td>2015-08-05</td>\n",
       "      <td>2015-08-07</td>\n",
       "      <td>Family</td>\n",
       "      <td>Transient-Party</td>\n",
       "      <td>40</td>\n",
       "      <td>19.770300</td>\n",
       "      <td>1.958684</td>\n",
       "      <td>3</td>\n",
       "      <td>NaN</td>\n",
       "      <td>0</td>\n",
       "      <td>BB</td>\n",
       "      <td>PRT</td>\n",
       "      <td>Undefined</td>\n",
       "      <td>Undefined</td>\n",
       "      <td>B</td>\n",
       "      <td>True</td>\n",
       "      <td>2015-08-04</td>\n",
       "    </tr>\n",
       "  </tbody>\n",
       "</table>\n",
       "</div>"
      ],
      "text/plain": [
       "               hotel_name  season arrival_date departure_date guest_type  \\\n",
       "26343    Braga City Hotel  Autumn   2015-12-01     2015-12-13     Couple   \n",
       "106208  Lisbon City Hotel  Summer   2015-08-03     2015-08-04     Family   \n",
       "106209  Lisbon City Hotel  Summer   2015-08-05     2015-08-07     Family   \n",
       "137729   Porto City Hotel  Winter   2018-01-01     2018-01-13     Couple   \n",
       "139516   Porto City Hotel  Summer   2015-08-05     2015-08-07     Family   \n",
       "\n",
       "          customer_type company        adr  num_guests  adults  children  \\\n",
       "26343         Transient      40  68.070924    1.960426       2       NaN   \n",
       "106208  Transient-Party      40  13.135240    1.962701       2       NaN   \n",
       "106209  Transient-Party      40  13.806969    1.962701       2       NaN   \n",
       "137729        Transient      40  75.116746    1.958684       2       NaN   \n",
       "139516  Transient-Party      40  19.770300    1.958684       3       NaN   \n",
       "\n",
       "        babies meal source_country market_segment distribution_channel  \\\n",
       "26343        0   BB            PRT  Offline TA/TO                TA/TO   \n",
       "106208       0   BB            PRT      Undefined            Undefined   \n",
       "106209       0   BB            PRT         Direct            Undefined   \n",
       "137729       0   SC            PRT  Offline TA/TO                TA/TO   \n",
       "139516       0   BB            PRT      Undefined            Undefined   \n",
       "\n",
       "       assigned_room_type  is_canceled booking_date  \n",
       "26343                   A        False   2015-01-22  \n",
       "106208                  B         True   2015-08-01  \n",
       "106209                  B         True   2015-08-04  \n",
       "137729                  A        False   2017-06-29  \n",
       "139516                  B         True   2015-08-04  "
      ]
     },
     "execution_count": 14,
     "metadata": {},
     "output_type": "execute_result"
    }
   ],
   "source": [
    "# check the records for which `children` have null values\n",
    "df_l1.loc[df_l1['children'].isna()]"
   ]
  },
  {
   "cell_type": "markdown",
   "id": "e1fc8e02-ada7-403c-bcdf-305c9f10703b",
   "metadata": {},
   "source": [
    "Since everything else in other columns look fine - we will fill the null values for these 5 records with 0 for now"
   ]
  },
  {
   "cell_type": "code",
   "execution_count": 15,
   "id": "653fb255-7ece-4315-9728-399f38fc1624",
   "metadata": {},
   "outputs": [],
   "source": [
    "df_l1['children'].fillna(0, inplace=True)"
   ]
  },
  {
   "cell_type": "markdown",
   "id": "8169787c-0a5c-47f3-86ed-a93a2408e98b",
   "metadata": {},
   "source": [
    "Again, just from domain knowledge and inferring from the field names we can make the following statements:\n",
    "1. The field `num_guests`, `adults`, `children` and `babies` should be of type `int` and must be always >= 0.\n",
    "2. The field `num_guests` must be >= 1.\n",
    "3. Also for every row $num\\_guests = adults + children + babies$\n",
    "\n",
    "Let's verify each of the above hypotheses."
   ]
  },
  {
   "cell_type": "markdown",
   "id": "4be9f6ee-e78e-4553-ac5c-637baa9db5cd",
   "metadata": {},
   "source": [
    "Assertion 1"
   ]
  },
  {
   "cell_type": "code",
   "execution_count": 16,
   "id": "80b738f0-97a0-4e5e-b2b4-22780415a0a3",
   "metadata": {},
   "outputs": [],
   "source": [
    "int_cols = [\"num_guests\", \"adults\", \"children\", \"babies\"]"
   ]
  },
  {
   "cell_type": "code",
   "execution_count": 17,
   "id": "96326925-b6fc-4d84-8ff1-891cdc4e1363",
   "metadata": {},
   "outputs": [],
   "source": [
    "def assert_int(df, cols):\n",
    "    try: \n",
    "        left = df[cols].sum().sum()\n",
    "        right = df[cols].astype(int).sum().sum()\n",
    "        assert left == right, f\"Absolute diff is {abs(left - right)}\" \n",
    "    except AssertionError as ex:\n",
    "        print(f\"Assertion failed for columns - {cols} !. Error message - {ex}\")"
   ]
  },
  {
   "cell_type": "code",
   "execution_count": 18,
   "id": "52ab2eb6-2e7a-48e6-9ffa-6c99b2461dc1",
   "metadata": {},
   "outputs": [
    {
     "name": "stdout",
     "output_type": "stream",
     "text": [
      "Assertion failed for columns - ['num_guests', 'adults', 'children', 'babies'] !. Error message - Absolute diff is 4.803196590859443\n"
     ]
    }
   ],
   "source": [
    "assert_int(df_l1, int_cols)"
   ]
  },
  {
   "cell_type": "markdown",
   "id": "d2e4d189-50fc-41e8-91f1-1b848f15115b",
   "metadata": {},
   "source": [
    "So we may need to have a closer look for each column to understand if the problem is across all the fields or any one in particular"
   ]
  },
  {
   "cell_type": "code",
   "execution_count": 19,
   "id": "fcbdfbe2-257b-4bc2-bcb6-1232f8d406af",
   "metadata": {},
   "outputs": [
    {
     "name": "stdout",
     "output_type": "stream",
     "text": [
      "Assertion failed for columns - num_guests !. Error message - Absolute diff is 4.803196590801235\n"
     ]
    }
   ],
   "source": [
    "for col in int_cols:\n",
    "    assert_int(df_l1, col)"
   ]
  },
  {
   "cell_type": "markdown",
   "id": "a6e4dca9-3938-4a58-93f3-6d13b0cd7c32",
   "metadata": {},
   "source": [
    "So now we want to have a closer look in the records where the field `num_guests` has non-integer values"
   ]
  },
  {
   "cell_type": "code",
   "execution_count": 20,
   "id": "a28eb2c5-eede-47dd-828c-4a355f197f23",
   "metadata": {},
   "outputs": [
    {
     "data": {
      "text/html": [
       "<div>\n",
       "<style scoped>\n",
       "    .dataframe tbody tr th:only-of-type {\n",
       "        vertical-align: middle;\n",
       "    }\n",
       "\n",
       "    .dataframe tbody tr th {\n",
       "        vertical-align: top;\n",
       "    }\n",
       "\n",
       "    .dataframe thead th {\n",
       "        text-align: right;\n",
       "    }\n",
       "</style>\n",
       "<table border=\"1\" class=\"dataframe\">\n",
       "  <thead>\n",
       "    <tr style=\"text-align: right;\">\n",
       "      <th></th>\n",
       "      <th>hotel_name</th>\n",
       "      <th>season</th>\n",
       "      <th>arrival_date</th>\n",
       "      <th>departure_date</th>\n",
       "      <th>guest_type</th>\n",
       "      <th>customer_type</th>\n",
       "      <th>company</th>\n",
       "      <th>adr</th>\n",
       "      <th>num_guests</th>\n",
       "      <th>adults</th>\n",
       "      <th>children</th>\n",
       "      <th>babies</th>\n",
       "      <th>meal</th>\n",
       "      <th>source_country</th>\n",
       "      <th>market_segment</th>\n",
       "      <th>distribution_channel</th>\n",
       "      <th>assigned_room_type</th>\n",
       "      <th>is_canceled</th>\n",
       "      <th>booking_date</th>\n",
       "    </tr>\n",
       "  </thead>\n",
       "  <tbody>\n",
       "    <tr>\n",
       "      <th>26343</th>\n",
       "      <td>Braga City Hotel</td>\n",
       "      <td>Autumn</td>\n",
       "      <td>2015-12-01</td>\n",
       "      <td>2015-12-13</td>\n",
       "      <td>Couple</td>\n",
       "      <td>Transient</td>\n",
       "      <td>40</td>\n",
       "      <td>68.070924</td>\n",
       "      <td>1.960426</td>\n",
       "      <td>2</td>\n",
       "      <td>0.0</td>\n",
       "      <td>0</td>\n",
       "      <td>BB</td>\n",
       "      <td>PRT</td>\n",
       "      <td>Offline TA/TO</td>\n",
       "      <td>TA/TO</td>\n",
       "      <td>A</td>\n",
       "      <td>False</td>\n",
       "      <td>2015-01-22</td>\n",
       "    </tr>\n",
       "    <tr>\n",
       "      <th>106208</th>\n",
       "      <td>Lisbon City Hotel</td>\n",
       "      <td>Summer</td>\n",
       "      <td>2015-08-03</td>\n",
       "      <td>2015-08-04</td>\n",
       "      <td>Family</td>\n",
       "      <td>Transient-Party</td>\n",
       "      <td>40</td>\n",
       "      <td>13.135240</td>\n",
       "      <td>1.962701</td>\n",
       "      <td>2</td>\n",
       "      <td>0.0</td>\n",
       "      <td>0</td>\n",
       "      <td>BB</td>\n",
       "      <td>PRT</td>\n",
       "      <td>Undefined</td>\n",
       "      <td>Undefined</td>\n",
       "      <td>B</td>\n",
       "      <td>True</td>\n",
       "      <td>2015-08-01</td>\n",
       "    </tr>\n",
       "    <tr>\n",
       "      <th>106209</th>\n",
       "      <td>Lisbon City Hotel</td>\n",
       "      <td>Summer</td>\n",
       "      <td>2015-08-05</td>\n",
       "      <td>2015-08-07</td>\n",
       "      <td>Family</td>\n",
       "      <td>Transient-Party</td>\n",
       "      <td>40</td>\n",
       "      <td>13.806969</td>\n",
       "      <td>1.962701</td>\n",
       "      <td>2</td>\n",
       "      <td>0.0</td>\n",
       "      <td>0</td>\n",
       "      <td>BB</td>\n",
       "      <td>PRT</td>\n",
       "      <td>Direct</td>\n",
       "      <td>Undefined</td>\n",
       "      <td>B</td>\n",
       "      <td>True</td>\n",
       "      <td>2015-08-04</td>\n",
       "    </tr>\n",
       "    <tr>\n",
       "      <th>137729</th>\n",
       "      <td>Porto City Hotel</td>\n",
       "      <td>Winter</td>\n",
       "      <td>2018-01-01</td>\n",
       "      <td>2018-01-13</td>\n",
       "      <td>Couple</td>\n",
       "      <td>Transient</td>\n",
       "      <td>40</td>\n",
       "      <td>75.116746</td>\n",
       "      <td>1.958684</td>\n",
       "      <td>2</td>\n",
       "      <td>0.0</td>\n",
       "      <td>0</td>\n",
       "      <td>SC</td>\n",
       "      <td>PRT</td>\n",
       "      <td>Offline TA/TO</td>\n",
       "      <td>TA/TO</td>\n",
       "      <td>A</td>\n",
       "      <td>False</td>\n",
       "      <td>2017-06-29</td>\n",
       "    </tr>\n",
       "    <tr>\n",
       "      <th>139516</th>\n",
       "      <td>Porto City Hotel</td>\n",
       "      <td>Summer</td>\n",
       "      <td>2015-08-05</td>\n",
       "      <td>2015-08-07</td>\n",
       "      <td>Family</td>\n",
       "      <td>Transient-Party</td>\n",
       "      <td>40</td>\n",
       "      <td>19.770300</td>\n",
       "      <td>1.958684</td>\n",
       "      <td>3</td>\n",
       "      <td>0.0</td>\n",
       "      <td>0</td>\n",
       "      <td>BB</td>\n",
       "      <td>PRT</td>\n",
       "      <td>Undefined</td>\n",
       "      <td>Undefined</td>\n",
       "      <td>B</td>\n",
       "      <td>True</td>\n",
       "      <td>2015-08-04</td>\n",
       "    </tr>\n",
       "  </tbody>\n",
       "</table>\n",
       "</div>"
      ],
      "text/plain": [
       "               hotel_name  season arrival_date departure_date guest_type  \\\n",
       "26343    Braga City Hotel  Autumn   2015-12-01     2015-12-13     Couple   \n",
       "106208  Lisbon City Hotel  Summer   2015-08-03     2015-08-04     Family   \n",
       "106209  Lisbon City Hotel  Summer   2015-08-05     2015-08-07     Family   \n",
       "137729   Porto City Hotel  Winter   2018-01-01     2018-01-13     Couple   \n",
       "139516   Porto City Hotel  Summer   2015-08-05     2015-08-07     Family   \n",
       "\n",
       "          customer_type company        adr  num_guests  adults  children  \\\n",
       "26343         Transient      40  68.070924    1.960426       2       0.0   \n",
       "106208  Transient-Party      40  13.135240    1.962701       2       0.0   \n",
       "106209  Transient-Party      40  13.806969    1.962701       2       0.0   \n",
       "137729        Transient      40  75.116746    1.958684       2       0.0   \n",
       "139516  Transient-Party      40  19.770300    1.958684       3       0.0   \n",
       "\n",
       "        babies meal source_country market_segment distribution_channel  \\\n",
       "26343        0   BB            PRT  Offline TA/TO                TA/TO   \n",
       "106208       0   BB            PRT      Undefined            Undefined   \n",
       "106209       0   BB            PRT         Direct            Undefined   \n",
       "137729       0   SC            PRT  Offline TA/TO                TA/TO   \n",
       "139516       0   BB            PRT      Undefined            Undefined   \n",
       "\n",
       "       assigned_room_type  is_canceled booking_date  \n",
       "26343                   A        False   2015-01-22  \n",
       "106208                  B         True   2015-08-01  \n",
       "106209                  B         True   2015-08-04  \n",
       "137729                  A        False   2017-06-29  \n",
       "139516                  B         True   2015-08-04  "
      ]
     },
     "execution_count": 20,
     "metadata": {},
     "output_type": "execute_result"
    }
   ],
   "source": [
    "df_l1.loc[df_l1['num_guests'] != df_l1['num_guests'].astype(int)]"
   ]
  },
  {
   "cell_type": "markdown",
   "id": "6282081f-e626-4bf1-94c5-47bc639b5e5d",
   "metadata": {},
   "source": [
    "So here on we have the following options:\n",
    "1. We throw these records away, OR\n",
    "2. We round them up and keep them.\n",
    "\n",
    "For now, I would go with option 2"
   ]
  },
  {
   "cell_type": "code",
   "execution_count": 21,
   "id": "8dbe0e04-a6fe-45b9-9127-903494b68f46",
   "metadata": {},
   "outputs": [],
   "source": [
    "df_l1['num_guests'] = round(df_l1['num_guests']).astype(int)"
   ]
  },
  {
   "cell_type": "markdown",
   "id": "55185e00-2be9-4173-9110-84fb8a55688f",
   "metadata": {},
   "source": [
    "Now let's check if the interger cols all are >= 0 or not"
   ]
  },
  {
   "cell_type": "code",
   "execution_count": 22,
   "id": "c91d1d2f-9381-4b47-a8de-24e80f62c645",
   "metadata": {},
   "outputs": [],
   "source": [
    "assert (df_l1[int_cols] < 0).sum().sum() == 0, \"One or more columns have negative values\""
   ]
  },
  {
   "cell_type": "markdown",
   "id": "29df72b3-9c75-4355-9550-1a15f1bc01a5",
   "metadata": {},
   "source": [
    "Assertion 2"
   ]
  },
  {
   "cell_type": "code",
   "execution_count": 23,
   "id": "cb1c0bd9-49cf-4ce9-983a-1670032c8387",
   "metadata": {},
   "outputs": [],
   "source": [
    "assert (df_l1['num_guests'] < 1).sum() == 0, \"The column `num_guests` have values < 1\""
   ]
  },
  {
   "cell_type": "markdown",
   "id": "58d3058f-e720-433c-a49d-df42af69e51d",
   "metadata": {},
   "source": [
    "Assertion 3"
   ]
  },
  {
   "cell_type": "code",
   "execution_count": 24,
   "id": "32591abf-b4ec-4355-8eab-03d68fc2db22",
   "metadata": {},
   "outputs": [],
   "source": [
    "sum_series = df_l1[\"adults\"] + df_l1[\"children\"] + df_l1[\"babies\"]"
   ]
  },
  {
   "cell_type": "code",
   "execution_count": 25,
   "id": "eeacdaa0-dd82-4dc4-9301-2354ed6d2bbf",
   "metadata": {},
   "outputs": [],
   "source": [
    "anomalous_num_guests = df_l1[\"num_guests\"] != sum_series"
   ]
  },
  {
   "cell_type": "code",
   "execution_count": 26,
   "id": "f58b72c2-6d01-423d-9e67-77213811276f",
   "metadata": {},
   "outputs": [
    {
     "name": "stdout",
     "output_type": "stream",
     "text": [
      "Assertion failed. Error message: For some records the summation assumption doesn't hold true\n"
     ]
    }
   ],
   "source": [
    "try: \n",
    "    assert anomalous_num_guests.sum() == 0, \"For some records the summation assumption doesn't hold true\"\n",
    "except AssertionError as ex:\n",
    "    print(f\"Assertion failed. Error message: {ex}\")"
   ]
  },
  {
   "cell_type": "code",
   "execution_count": 27,
   "id": "adbfa2b1-988f-45e7-9761-3e951ac78f3e",
   "metadata": {},
   "outputs": [
    {
     "data": {
      "text/html": [
       "<div>\n",
       "<style scoped>\n",
       "    .dataframe tbody tr th:only-of-type {\n",
       "        vertical-align: middle;\n",
       "    }\n",
       "\n",
       "    .dataframe tbody tr th {\n",
       "        vertical-align: top;\n",
       "    }\n",
       "\n",
       "    .dataframe thead th {\n",
       "        text-align: right;\n",
       "    }\n",
       "</style>\n",
       "<table border=\"1\" class=\"dataframe\">\n",
       "  <thead>\n",
       "    <tr style=\"text-align: right;\">\n",
       "      <th></th>\n",
       "      <th>hotel_name</th>\n",
       "      <th>season</th>\n",
       "      <th>arrival_date</th>\n",
       "      <th>departure_date</th>\n",
       "      <th>guest_type</th>\n",
       "      <th>customer_type</th>\n",
       "      <th>company</th>\n",
       "      <th>adr</th>\n",
       "      <th>num_guests</th>\n",
       "      <th>adults</th>\n",
       "      <th>children</th>\n",
       "      <th>babies</th>\n",
       "      <th>meal</th>\n",
       "      <th>source_country</th>\n",
       "      <th>market_segment</th>\n",
       "      <th>distribution_channel</th>\n",
       "      <th>assigned_room_type</th>\n",
       "      <th>is_canceled</th>\n",
       "      <th>booking_date</th>\n",
       "    </tr>\n",
       "  </thead>\n",
       "  <tbody>\n",
       "    <tr>\n",
       "      <th>139516</th>\n",
       "      <td>Porto City Hotel</td>\n",
       "      <td>Summer</td>\n",
       "      <td>2015-08-05</td>\n",
       "      <td>2015-08-07</td>\n",
       "      <td>Family</td>\n",
       "      <td>Transient-Party</td>\n",
       "      <td>40</td>\n",
       "      <td>19.7703</td>\n",
       "      <td>2</td>\n",
       "      <td>3</td>\n",
       "      <td>0.0</td>\n",
       "      <td>0</td>\n",
       "      <td>BB</td>\n",
       "      <td>PRT</td>\n",
       "      <td>Undefined</td>\n",
       "      <td>Undefined</td>\n",
       "      <td>B</td>\n",
       "      <td>True</td>\n",
       "      <td>2015-08-04</td>\n",
       "    </tr>\n",
       "  </tbody>\n",
       "</table>\n",
       "</div>"
      ],
      "text/plain": [
       "              hotel_name  season arrival_date departure_date guest_type  \\\n",
       "139516  Porto City Hotel  Summer   2015-08-05     2015-08-07     Family   \n",
       "\n",
       "          customer_type company      adr  num_guests  adults  children  \\\n",
       "139516  Transient-Party      40  19.7703           2       3       0.0   \n",
       "\n",
       "        babies meal source_country market_segment distribution_channel  \\\n",
       "139516       0   BB            PRT      Undefined            Undefined   \n",
       "\n",
       "       assigned_room_type  is_canceled booking_date  \n",
       "139516                  B         True   2015-08-04  "
      ]
     },
     "execution_count": 27,
     "metadata": {},
     "output_type": "execute_result"
    }
   ],
   "source": [
    "df_l1.loc[anomalous_num_guests]"
   ]
  },
  {
   "cell_type": "markdown",
   "id": "62e1fce0-8d29-464c-9c19-9b2171711714",
   "metadata": {},
   "source": [
    "Since the above is just one record we could throw it away"
   ]
  },
  {
   "cell_type": "code",
   "execution_count": 28,
   "id": "841b7e8f-e47f-451d-80fa-1fad45fcba9f",
   "metadata": {},
   "outputs": [],
   "source": [
    "df_l1 = df_l1[~anomalous_num_guests]"
   ]
  },
  {
   "cell_type": "markdown",
   "id": "4165d299-8f0e-4c2f-81a7-80358f9389b3",
   "metadata": {},
   "source": [
    "We could safely cast the `children` column to `int` now."
   ]
  },
  {
   "cell_type": "code",
   "execution_count": 29,
   "id": "1f0a0b88-4714-42cd-b48e-eb40d2815086",
   "metadata": {},
   "outputs": [],
   "source": [
    "df_l1['children'] = df_l1['children'].astype(int)"
   ]
  },
  {
   "cell_type": "markdown",
   "id": "d61597ab-ed32-43dc-9fcd-22985f76fd8f",
   "metadata": {},
   "source": [
    "Let's check the range of the values in the integer columns"
   ]
  },
  {
   "cell_type": "code",
   "execution_count": 30,
   "id": "a95fda74-df63-4519-92be-c560ad3784f3",
   "metadata": {},
   "outputs": [
    {
     "name": "stdout",
     "output_type": "stream",
     "text": [
      "num_guests    1\n",
      "adults        1\n",
      "children      0\n",
      "babies        0\n",
      "dtype: int64\n",
      "num_guests    57\n",
      "adults        55\n",
      "children       3\n",
      "babies        10\n",
      "dtype: int64\n"
     ]
    }
   ],
   "source": [
    "print(df_l1[int_cols].min())\n",
    "print(df_l1[int_cols].max())"
   ]
  },
  {
   "cell_type": "markdown",
   "id": "1add51b6-1b21-4877-ac12-81bc7ba16606",
   "metadata": {},
   "source": [
    "Optionally we could further down cast these columns to `uint8` datatype -  this would save some memory footprint but since we are not actually dealing with out-of-core data here we skip doing it for now."
   ]
  },
  {
   "cell_type": "markdown",
   "id": "6c39947c-0e84-4c03-b2db-621a2329fddc",
   "metadata": {},
   "source": [
    "Let's have a look into another important field - `adr` (average daily rate)."
   ]
  },
  {
   "cell_type": "code",
   "execution_count": 31,
   "id": "78da0935-33e4-4bfe-898d-8b809f8b76ff",
   "metadata": {},
   "outputs": [
    {
     "data": {
      "text/plain": [
       "(-28.972876193327767, 462.6388013072548)"
      ]
     },
     "execution_count": 31,
     "metadata": {},
     "output_type": "execute_result"
    }
   ],
   "source": [
    "df_l1['adr'].min(), df_l1['adr'].max()"
   ]
  },
  {
   "cell_type": "markdown",
   "id": "3eeca0f3-7308-477a-8908-c6cc2d03475e",
   "metadata": {},
   "source": [
    "Let's have a closer look in the number of records for which `adr` is negative"
   ]
  },
  {
   "cell_type": "code",
   "execution_count": 32,
   "id": "a8ca646a-3a99-4870-a716-d695ecf68929",
   "metadata": {},
   "outputs": [],
   "source": [
    "negative_adr = df_l1['adr'] < 0"
   ]
  },
  {
   "cell_type": "code",
   "execution_count": 33,
   "id": "ad709faf-5dfa-4976-9f49-34d487f89933",
   "metadata": {},
   "outputs": [
    {
     "data": {
      "text/html": [
       "<div>\n",
       "<style scoped>\n",
       "    .dataframe tbody tr th:only-of-type {\n",
       "        vertical-align: middle;\n",
       "    }\n",
       "\n",
       "    .dataframe tbody tr th {\n",
       "        vertical-align: top;\n",
       "    }\n",
       "\n",
       "    .dataframe thead th {\n",
       "        text-align: right;\n",
       "    }\n",
       "</style>\n",
       "<table border=\"1\" class=\"dataframe\">\n",
       "  <thead>\n",
       "    <tr style=\"text-align: right;\">\n",
       "      <th></th>\n",
       "      <th>hotel_name</th>\n",
       "      <th>season</th>\n",
       "      <th>arrival_date</th>\n",
       "      <th>departure_date</th>\n",
       "      <th>guest_type</th>\n",
       "      <th>customer_type</th>\n",
       "      <th>company</th>\n",
       "      <th>adr</th>\n",
       "      <th>num_guests</th>\n",
       "      <th>adults</th>\n",
       "      <th>children</th>\n",
       "      <th>babies</th>\n",
       "      <th>meal</th>\n",
       "      <th>source_country</th>\n",
       "      <th>market_segment</th>\n",
       "      <th>distribution_channel</th>\n",
       "      <th>assigned_room_type</th>\n",
       "      <th>is_canceled</th>\n",
       "      <th>booking_date</th>\n",
       "    </tr>\n",
       "  </thead>\n",
       "  <tbody>\n",
       "    <tr>\n",
       "      <th>799</th>\n",
       "      <td>Algarve Retreat</td>\n",
       "      <td>Autumn</td>\n",
       "      <td>2015-12-05</td>\n",
       "      <td>2015-12-31</td>\n",
       "      <td>Couple</td>\n",
       "      <td>Transient</td>\n",
       "      <td>40</td>\n",
       "      <td>-15.383247</td>\n",
       "      <td>2</td>\n",
       "      <td>2</td>\n",
       "      <td>0</td>\n",
       "      <td>0</td>\n",
       "      <td>BB</td>\n",
       "      <td>PRT</td>\n",
       "      <td>Complementary</td>\n",
       "      <td>Direct</td>\n",
       "      <td>A</td>\n",
       "      <td>False</td>\n",
       "      <td>2015-02-24</td>\n",
       "    </tr>\n",
       "    <tr>\n",
       "      <th>1682</th>\n",
       "      <td>Algarve Retreat</td>\n",
       "      <td>Autumn</td>\n",
       "      <td>2015-07-19</td>\n",
       "      <td>2015-08-05</td>\n",
       "      <td>Couple</td>\n",
       "      <td>Transient</td>\n",
       "      <td>40</td>\n",
       "      <td>-1.866959</td>\n",
       "      <td>1</td>\n",
       "      <td>1</td>\n",
       "      <td>0</td>\n",
       "      <td>0</td>\n",
       "      <td>BB</td>\n",
       "      <td>BEL</td>\n",
       "      <td>Complementary</td>\n",
       "      <td>TA/TO</td>\n",
       "      <td>A</td>\n",
       "      <td>False</td>\n",
       "      <td>2015-06-09</td>\n",
       "    </tr>\n",
       "    <tr>\n",
       "      <th>2163</th>\n",
       "      <td>Algarve Retreat</td>\n",
       "      <td>Summer</td>\n",
       "      <td>2016-02-05</td>\n",
       "      <td>2016-02-23</td>\n",
       "      <td>Couple</td>\n",
       "      <td>Transient</td>\n",
       "      <td>40</td>\n",
       "      <td>-14.868839</td>\n",
       "      <td>1</td>\n",
       "      <td>1</td>\n",
       "      <td>0</td>\n",
       "      <td>0</td>\n",
       "      <td>BB</td>\n",
       "      <td>PRT</td>\n",
       "      <td>Complementary</td>\n",
       "      <td>TA/TO</td>\n",
       "      <td>A</td>\n",
       "      <td>False</td>\n",
       "      <td>2015-07-21</td>\n",
       "    </tr>\n",
       "    <tr>\n",
       "      <th>3814</th>\n",
       "      <td>Algarve Retreat</td>\n",
       "      <td>Summer</td>\n",
       "      <td>2016-01-08</td>\n",
       "      <td>2016-01-11</td>\n",
       "      <td>Couple</td>\n",
       "      <td>Transient</td>\n",
       "      <td>40</td>\n",
       "      <td>-13.431002</td>\n",
       "      <td>2</td>\n",
       "      <td>2</td>\n",
       "      <td>0</td>\n",
       "      <td>0</td>\n",
       "      <td>BB</td>\n",
       "      <td>FRA</td>\n",
       "      <td>Complementary</td>\n",
       "      <td>TA/TO</td>\n",
       "      <td>A</td>\n",
       "      <td>False</td>\n",
       "      <td>2015-11-09</td>\n",
       "    </tr>\n",
       "    <tr>\n",
       "      <th>4477</th>\n",
       "      <td>Algarve Retreat</td>\n",
       "      <td>Spring</td>\n",
       "      <td>2016-06-10</td>\n",
       "      <td>2016-06-19</td>\n",
       "      <td>Couple</td>\n",
       "      <td>Transient</td>\n",
       "      <td>40</td>\n",
       "      <td>-1.378447</td>\n",
       "      <td>2</td>\n",
       "      <td>2</td>\n",
       "      <td>0</td>\n",
       "      <td>0</td>\n",
       "      <td>SC</td>\n",
       "      <td>GBR</td>\n",
       "      <td>Complementary</td>\n",
       "      <td>Direct</td>\n",
       "      <td>A</td>\n",
       "      <td>False</td>\n",
       "      <td>2016-01-03</td>\n",
       "    </tr>\n",
       "    <tr>\n",
       "      <th>...</th>\n",
       "      <td>...</td>\n",
       "      <td>...</td>\n",
       "      <td>...</td>\n",
       "      <td>...</td>\n",
       "      <td>...</td>\n",
       "      <td>...</td>\n",
       "      <td>...</td>\n",
       "      <td>...</td>\n",
       "      <td>...</td>\n",
       "      <td>...</td>\n",
       "      <td>...</td>\n",
       "      <td>...</td>\n",
       "      <td>...</td>\n",
       "      <td>...</td>\n",
       "      <td>...</td>\n",
       "      <td>...</td>\n",
       "      <td>...</td>\n",
       "      <td>...</td>\n",
       "      <td>...</td>\n",
       "    </tr>\n",
       "    <tr>\n",
       "      <th>121350</th>\n",
       "      <td>Porto City Hotel</td>\n",
       "      <td>Summer</td>\n",
       "      <td>2016-01-27</td>\n",
       "      <td>2016-02-12</td>\n",
       "      <td>Single</td>\n",
       "      <td>Transient</td>\n",
       "      <td>40</td>\n",
       "      <td>-4.047084</td>\n",
       "      <td>1</td>\n",
       "      <td>1</td>\n",
       "      <td>0</td>\n",
       "      <td>0</td>\n",
       "      <td>BB</td>\n",
       "      <td>CN</td>\n",
       "      <td>Complementary</td>\n",
       "      <td>TA/TO</td>\n",
       "      <td>A</td>\n",
       "      <td>True</td>\n",
       "      <td>2015-08-21</td>\n",
       "    </tr>\n",
       "    <tr>\n",
       "      <th>121643</th>\n",
       "      <td>Porto City Hotel</td>\n",
       "      <td>Summer</td>\n",
       "      <td>2016-04-28</td>\n",
       "      <td>2016-05-13</td>\n",
       "      <td>Single</td>\n",
       "      <td>Transient</td>\n",
       "      <td>40</td>\n",
       "      <td>-1.712676</td>\n",
       "      <td>1</td>\n",
       "      <td>1</td>\n",
       "      <td>0</td>\n",
       "      <td>0</td>\n",
       "      <td>BB</td>\n",
       "      <td>IRL</td>\n",
       "      <td>Complementary</td>\n",
       "      <td>TA/TO</td>\n",
       "      <td>A</td>\n",
       "      <td>True</td>\n",
       "      <td>2015-09-04</td>\n",
       "    </tr>\n",
       "    <tr>\n",
       "      <th>133531</th>\n",
       "      <td>Porto City Hotel</td>\n",
       "      <td>Summer</td>\n",
       "      <td>2017-03-14</td>\n",
       "      <td>2017-03-26</td>\n",
       "      <td>Couple</td>\n",
       "      <td>Group</td>\n",
       "      <td>40</td>\n",
       "      <td>-0.388213</td>\n",
       "      <td>2</td>\n",
       "      <td>2</td>\n",
       "      <td>0</td>\n",
       "      <td>0</td>\n",
       "      <td>BB</td>\n",
       "      <td>PRT</td>\n",
       "      <td>Complementary</td>\n",
       "      <td>TA/TO</td>\n",
       "      <td>A</td>\n",
       "      <td>True</td>\n",
       "      <td>2016-12-18</td>\n",
       "    </tr>\n",
       "    <tr>\n",
       "      <th>138135</th>\n",
       "      <td>Porto City Hotel</td>\n",
       "      <td>Autumn</td>\n",
       "      <td>2018-01-19</td>\n",
       "      <td>2018-02-05</td>\n",
       "      <td>Couple</td>\n",
       "      <td>Transient-Party</td>\n",
       "      <td>40</td>\n",
       "      <td>-4.247148</td>\n",
       "      <td>1</td>\n",
       "      <td>1</td>\n",
       "      <td>0</td>\n",
       "      <td>0</td>\n",
       "      <td>HB</td>\n",
       "      <td>IRL</td>\n",
       "      <td>Complementary</td>\n",
       "      <td>TA/TO</td>\n",
       "      <td>A</td>\n",
       "      <td>True</td>\n",
       "      <td>2017-08-05</td>\n",
       "    </tr>\n",
       "    <tr>\n",
       "      <th>149935</th>\n",
       "      <td>Porto City Hotel</td>\n",
       "      <td>Spring</td>\n",
       "      <td>2015-11-27</td>\n",
       "      <td>2015-12-14</td>\n",
       "      <td>Group</td>\n",
       "      <td>Transient</td>\n",
       "      <td>40</td>\n",
       "      <td>-16.640182</td>\n",
       "      <td>1</td>\n",
       "      <td>1</td>\n",
       "      <td>0</td>\n",
       "      <td>0</td>\n",
       "      <td>BB</td>\n",
       "      <td>PRT</td>\n",
       "      <td>Complementary</td>\n",
       "      <td>Direct</td>\n",
       "      <td>I</td>\n",
       "      <td>False</td>\n",
       "      <td>2014-11-28</td>\n",
       "    </tr>\n",
       "  </tbody>\n",
       "</table>\n",
       "<p>67 rows × 19 columns</p>\n",
       "</div>"
      ],
      "text/plain": [
       "              hotel_name  season arrival_date departure_date guest_type  \\\n",
       "799      Algarve Retreat  Autumn   2015-12-05     2015-12-31     Couple   \n",
       "1682     Algarve Retreat  Autumn   2015-07-19     2015-08-05     Couple   \n",
       "2163     Algarve Retreat  Summer   2016-02-05     2016-02-23     Couple   \n",
       "3814     Algarve Retreat  Summer   2016-01-08     2016-01-11     Couple   \n",
       "4477     Algarve Retreat  Spring   2016-06-10     2016-06-19     Couple   \n",
       "...                  ...     ...          ...            ...        ...   \n",
       "121350  Porto City Hotel  Summer   2016-01-27     2016-02-12     Single   \n",
       "121643  Porto City Hotel  Summer   2016-04-28     2016-05-13     Single   \n",
       "133531  Porto City Hotel  Summer   2017-03-14     2017-03-26     Couple   \n",
       "138135  Porto City Hotel  Autumn   2018-01-19     2018-02-05     Couple   \n",
       "149935  Porto City Hotel  Spring   2015-11-27     2015-12-14      Group   \n",
       "\n",
       "          customer_type company        adr  num_guests  adults  children  \\\n",
       "799           Transient      40 -15.383247           2       2         0   \n",
       "1682          Transient      40  -1.866959           1       1         0   \n",
       "2163          Transient      40 -14.868839           1       1         0   \n",
       "3814          Transient      40 -13.431002           2       2         0   \n",
       "4477          Transient      40  -1.378447           2       2         0   \n",
       "...                 ...     ...        ...         ...     ...       ...   \n",
       "121350        Transient      40  -4.047084           1       1         0   \n",
       "121643        Transient      40  -1.712676           1       1         0   \n",
       "133531            Group      40  -0.388213           2       2         0   \n",
       "138135  Transient-Party      40  -4.247148           1       1         0   \n",
       "149935        Transient      40 -16.640182           1       1         0   \n",
       "\n",
       "        babies meal source_country market_segment distribution_channel  \\\n",
       "799          0   BB            PRT  Complementary               Direct   \n",
       "1682         0   BB            BEL  Complementary                TA/TO   \n",
       "2163         0   BB            PRT  Complementary                TA/TO   \n",
       "3814         0   BB            FRA  Complementary                TA/TO   \n",
       "4477         0   SC            GBR  Complementary               Direct   \n",
       "...        ...  ...            ...            ...                  ...   \n",
       "121350       0   BB             CN  Complementary                TA/TO   \n",
       "121643       0   BB            IRL  Complementary                TA/TO   \n",
       "133531       0   BB            PRT  Complementary                TA/TO   \n",
       "138135       0   HB            IRL  Complementary                TA/TO   \n",
       "149935       0   BB            PRT  Complementary               Direct   \n",
       "\n",
       "       assigned_room_type  is_canceled booking_date  \n",
       "799                     A        False   2015-02-24  \n",
       "1682                    A        False   2015-06-09  \n",
       "2163                    A        False   2015-07-21  \n",
       "3814                    A        False   2015-11-09  \n",
       "4477                    A        False   2016-01-03  \n",
       "...                   ...          ...          ...  \n",
       "121350                  A         True   2015-08-21  \n",
       "121643                  A         True   2015-09-04  \n",
       "133531                  A         True   2016-12-18  \n",
       "138135                  A         True   2017-08-05  \n",
       "149935                  I        False   2014-11-28  \n",
       "\n",
       "[67 rows x 19 columns]"
      ]
     },
     "execution_count": 33,
     "metadata": {},
     "output_type": "execute_result"
    }
   ],
   "source": [
    "df_l1.loc[negative_adr]"
   ]
  },
  {
   "cell_type": "markdown",
   "id": "234b7d3a-ca9e-480e-9801-92091a3496eb",
   "metadata": {},
   "source": [
    "The values in the `adr` column essentially denote prices (according to page - 4 of the PDF of task instructions) - negative prices usually mean a refund. Which usually happen in cases of cancellations. Let's verify if that's true."
   ]
  },
  {
   "cell_type": "code",
   "execution_count": 34,
   "id": "63bf8792-d5cf-4e99-9592-1d0d64241e7c",
   "metadata": {},
   "outputs": [
    {
     "data": {
      "text/plain": [
       "is_canceled\n",
       "False    48\n",
       "True     19\n",
       "Name: count, dtype: int64"
      ]
     },
     "execution_count": 34,
     "metadata": {},
     "output_type": "execute_result"
    }
   ],
   "source": [
    "df_l1.loc[negative_adr]['is_canceled'].value_counts()"
   ]
  },
  {
   "cell_type": "markdown",
   "id": "192069e8-8d09-4999-8829-abd1a85cea5f",
   "metadata": {},
   "source": [
    "Which means that our assumption is wrong. So in order to proceed from here for the sake of data sanity we could throw them away but first let's see if we would lose some valuable information by doing this. \n",
    "\n",
    "This is especially important if we have some categories that only appear in these records.\n",
    "\n",
    "So let's first see if that's the case."
   ]
  },
  {
   "cell_type": "code",
   "execution_count": 35,
   "id": "e8066cc1-44e0-4796-992b-6eeeb03a841e",
   "metadata": {},
   "outputs": [],
   "source": [
    "cat_cols = df_l1.select_dtypes('category').columns"
   ]
  },
  {
   "cell_type": "code",
   "execution_count": 36,
   "id": "44a1c2ab-0719-4564-9d7e-c576277eb7a2",
   "metadata": {},
   "outputs": [],
   "source": [
    "for col in cat_cols:\n",
    "    cats_in_positive_adr = set(df_l1.loc[~negative_adr][col])\n",
    "    cats_in_negative_adr = set(df_l1.loc[negative_adr][col])\n",
    "    if not cats_in_negative_adr.issubset(cats_in_positive_adr):\n",
    "        print(f\"These categories in {col} are only present in the records with negative ADR {cats_in_negative_adr - cats_in_positive_adr}\")"
   ]
  },
  {
   "cell_type": "markdown",
   "id": "bb4653ca-5d50-4bbe-b848-920e2e2b4d49",
   "metadata": {},
   "source": [
    "So thankfully that's not the case, let's check if we have some numeric values which are only present in these records"
   ]
  },
  {
   "cell_type": "code",
   "execution_count": 37,
   "id": "ec23e23f-3bf3-4751-a2ca-413b887f4f5a",
   "metadata": {},
   "outputs": [],
   "source": [
    "for col in int_cols:\n",
    "    minimum_in_negative_adr = df_l1.loc[negative_adr][col].min()\n",
    "    minimum_in_positive_adr = df_l1.loc[~negative_adr][col].min()\n",
    "    maximum_in_negative_adr = df_l1.loc[negative_adr][col].max()\n",
    "    maximum_in_positive_adr = df_l1.loc[~negative_adr][col].max()\n",
    "\n",
    "    if not minimum_in_positive_adr <= minimum_in_negative_adr <= maximum_in_negative_adr <= maximum_in_positive_adr:\n",
    "        print(f\"The column {col} has values in the records with negative ADR that are not seen in the ones with positive ADR\")"
   ]
  },
  {
   "cell_type": "markdown",
   "id": "6f0b4389-96ae-4f14-8d76-8af7e5dbd8c7",
   "metadata": {},
   "source": [
    "For numeric fields its not the case, let's check the same for the date columns"
   ]
  },
  {
   "cell_type": "code",
   "execution_count": 38,
   "id": "d2530282-7d02-4f71-b17f-c43d29eef1b9",
   "metadata": {},
   "outputs": [],
   "source": [
    "for col in date_cols:\n",
    "    minimum_in_negative_adr = df_l1.loc[negative_adr][col].min()\n",
    "    minimum_in_positive_adr = df_l1.loc[~negative_adr][col].min()\n",
    "    maximum_in_negative_adr = df_l1.loc[negative_adr][col].max()\n",
    "    maximum_in_positive_adr = df_l1.loc[~negative_adr][col].max()\n",
    "\n",
    "    if not minimum_in_positive_adr <= minimum_in_negative_adr <= maximum_in_negative_adr <= maximum_in_positive_adr:\n",
    "        print(f\"The column {col} has dates in the records with negative ADR that are not seen in the ones with positive ADR\")"
   ]
  },
  {
   "cell_type": "markdown",
   "id": "1f395296-f05b-4fa4-b00d-9a1f22f61faa",
   "metadata": {},
   "source": [
    "So looking at all the fields we could conclude that not considering these 67 records should not largely change the picture in our latter analyses"
   ]
  },
  {
   "cell_type": "code",
   "execution_count": 39,
   "id": "4b7001f8-f529-4379-af4f-5e2b747f5dd0",
   "metadata": {},
   "outputs": [],
   "source": [
    "df_l1 = df_l1.loc[~negative_adr]"
   ]
  },
  {
   "cell_type": "markdown",
   "id": "d9ffabfb-883e-40aa-9d4e-b5852ec75015",
   "metadata": {},
   "source": [
    "Next, let's check for some anomalies in the date columns. As a basic check we could say that for all records the following should hold true:\n",
    "1. $booking\\_date <= arrival\\_date <= departure\\_date$"
   ]
  },
  {
   "cell_type": "code",
   "execution_count": 40,
   "id": "572902e5-674a-4dac-82a3-dc42a4dbea8f",
   "metadata": {},
   "outputs": [],
   "source": [
    "anomalous_dates = ~((df_l1['booking_date'] <= df_l1['arrival_date']) &\\\n",
    "        (df_l1['arrival_date'] <= df_l1['departure_date']))"
   ]
  },
  {
   "cell_type": "code",
   "execution_count": 41,
   "id": "904ae3d2-2416-484d-a028-c41ced5aee40",
   "metadata": {},
   "outputs": [],
   "source": [
    "try: \n",
    "    assert anomalous_dates.sum() == 0\n",
    "except AssertionError as ex:\n",
    "    print(f\"Some records have anomalous dates\")"
   ]
  },
  {
   "cell_type": "markdown",
   "id": "c4c6a349-c496-4d97-abd1-e60d434ce84e",
   "metadata": {},
   "source": [
    "Finally we need to check and drop any duplicate records if we have. P.S. in this dataset we do not have any field that uniquely identifies a booking (e.g. something like booking-id). Therefore, we need to be careful when aggressively dropping duplicate records."
   ]
  },
  {
   "cell_type": "code",
   "execution_count": 42,
   "id": "681e78cf-5584-4258-ba83-f89da845e235",
   "metadata": {},
   "outputs": [],
   "source": [
    "after = len(df_l1.drop_duplicates())\n",
    "before = len(df_l1)\n",
    "perc_dropped = abs(after-before)/before\n",
    "if perc_dropped > 0.05:\n",
    "    raise Exception(f\"More than 5% ({before-after}) of records are getting dropped. Please check !\")\n",
    "else:\n",
    "    df_l1 = df_l1.drop_duplicates()"
   ]
  },
  {
   "cell_type": "code",
   "execution_count": 43,
   "id": "cf1f56d6-24ab-4cac-bd77-ece661fc3ed6",
   "metadata": {},
   "outputs": [
    {
     "name": "stdout",
     "output_type": "stream",
     "text": [
      "<class 'pandas.core.frame.DataFrame'>\n",
      "Index: 149899 entries, 0 to 149999\n",
      "Data columns (total 19 columns):\n",
      " #   Column                Non-Null Count   Dtype         \n",
      "---  ------                --------------   -----         \n",
      " 0   hotel_name            149899 non-null  category      \n",
      " 1   season                149899 non-null  category      \n",
      " 2   arrival_date          149899 non-null  datetime64[ns]\n",
      " 3   departure_date        149899 non-null  datetime64[ns]\n",
      " 4   guest_type            149899 non-null  category      \n",
      " 5   customer_type         149899 non-null  category      \n",
      " 6   company               149899 non-null  category      \n",
      " 7   adr                   149899 non-null  float64       \n",
      " 8   num_guests            149899 non-null  int64         \n",
      " 9   adults                149899 non-null  int64         \n",
      " 10  children              149899 non-null  int64         \n",
      " 11  babies                149899 non-null  int64         \n",
      " 12  meal                  149899 non-null  category      \n",
      " 13  source_country        149899 non-null  category      \n",
      " 14  market_segment        149899 non-null  category      \n",
      " 15  distribution_channel  149899 non-null  category      \n",
      " 16  assigned_room_type    149899 non-null  category      \n",
      " 17  is_canceled           149899 non-null  bool          \n",
      " 18  booking_date          149899 non-null  datetime64[ns]\n",
      "dtypes: bool(1), category(10), datetime64[ns](3), float64(1), int64(4)\n",
      "memory usage: 12.2 MB\n"
     ]
    }
   ],
   "source": [
    "# finalize preliminary data prep\n",
    "df_l1.info()"
   ]
  },
  {
   "cell_type": "markdown",
   "id": "8f2fcbcd-b22c-4740-a613-1f2bf41b31c3",
   "metadata": {},
   "source": [
    "# Save data"
   ]
  },
  {
   "cell_type": "code",
   "execution_count": 44,
   "id": "bb4feb71-2eac-4ecd-b9ff-291ec3f32a08",
   "metadata": {},
   "outputs": [],
   "source": [
    "df_l1.reset_index(drop=True).to_parquet(params.DATA_PATH / \"hotel_bookings_l1.parquet\")"
   ]
  },
  {
   "cell_type": "code",
   "execution_count": null,
   "id": "bc367003-37f4-4284-a58b-75783f5357ff",
   "metadata": {},
   "outputs": [],
   "source": []
  }
 ],
 "metadata": {
  "kernelspec": {
   "display_name": "tui_task_venv",
   "language": "python",
   "name": "tui_task_venv"
  },
  "language_info": {
   "codemirror_mode": {
    "name": "ipython",
    "version": 3
   },
   "file_extension": ".py",
   "mimetype": "text/x-python",
   "name": "python",
   "nbconvert_exporter": "python",
   "pygments_lexer": "ipython3",
   "version": "3.10.12"
  }
 },
 "nbformat": 4,
 "nbformat_minor": 5
}
